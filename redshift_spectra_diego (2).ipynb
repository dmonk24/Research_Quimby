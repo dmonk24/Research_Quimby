{
 "cells": [
  {
   "cell_type": "markdown",
   "metadata": {},
   "source": [
    "# Magnitudes of high-redshift targets"
   ]
  },
  {
   "cell_type": "markdown",
   "metadata": {},
   "source": [
    "### Robert Quimby"
   ]
  },
  {
   "cell_type": "markdown",
   "metadata": {},
   "source": [
    "This notebook gives an example of how I am calculating magnitudes and colors for high-redshift sources.\n",
    "\n",
    "Procedure outline:\n",
    "- load a spectral template\n",
    "- rescale the flux densities of the template to a distance of 10pc\n",
    "- redshift the wavelengths and flux densities to the desired redshift\n",
    "- convolve the predicted spectra with a filter response curve to calculate the AB magnitude\n",
    "\n",
    "The heart of this procedure is the `redshift_spec` function below. "
   ]
  },
  {
   "cell_type": "code",
   "execution_count": 1,
   "metadata": {},
   "outputs": [],
   "source": [
    "import numpy as np\n",
    "import speclite\n",
    "import speclite.filters\n",
    "from scipy.interpolate import interp1d\n",
    "import astropy.units as u\n",
    "from astropy.cosmology import WMAP9 as cosmo"
   ]
  },
  {
   "cell_type": "code",
   "execution_count": 2,
   "metadata": {},
   "outputs": [],
   "source": [
    "# load Hsiao SNIa templates\n",
    "# (these can be downloaded from http://astrophysics.physics.fsu.edu/~hsiao/data/)\n",
    "hsiao = np.genfromtxt('/home/jovyan/research/Current/hsiao_templates/snflux_1a.dat', names='phase, wav, flux')\n",
    "\n",
    "# pick data at B-band max\n",
    "wmax = hsiao['phase'] == 0\n",
    "template = hsiao[wmax]"
   ]
  },
  {
   "cell_type": "code",
   "execution_count": 3,
   "metadata": {},
   "outputs": [],
   "source": [
    "def scale_spec(data, band, mag):\n",
    "    \"\"\"\n",
    "    rescale flux values to give the desired `mag` in some `band`\n",
    "    \"\"\"\n",
    "    \n",
    "    flux, wlen = band.pad_spectrum(data['flux'], data['wav'])\n",
    "    mag0 = band.get_ab_magnitude(flux, wlen)\n",
    "    scale = 10**(-0.4 * (mag - mag0))\n",
    "    data['flux'] *= scale"
   ]
  },
  {
   "cell_type": "code",
   "execution_count": 4,
   "metadata": {},
   "outputs": [],
   "source": [
    "# scale to some absolute magnitude in some band\n",
    "absmag = -19.3\n",
    "rband = speclite.filters.load_filter('sdss2010-r')\n",
    "scale_spec(template, rband, absmag)"
   ]
  },
  {
   "cell_type": "code",
   "execution_count": 5,
   "metadata": {},
   "outputs": [
    {
     "data": {
      "text/plain": [
       "-19.3"
      ]
     },
     "execution_count": 5,
     "metadata": {},
     "output_type": "execute_result"
    }
   ],
   "source": [
    "# verify the scaling worked\n",
    "flux, wlen = rband.pad_spectrum(template['flux'], template['wav'])\n",
    "rband.get_ab_magnitude(flux, wlen)"
   ]
  },
  {
   "cell_type": "code",
   "execution_count": 6,
   "metadata": {},
   "outputs": [],
   "source": [
    "def redshift_spec(rest, z):\n",
    "    \"\"\"\n",
    "    calculate the flux densities of a `rest` spectrum redshifted to `z`\n",
    "    \n",
    "    `rest` is a numpy structured array. \n",
    "    `rest['wav']` holds the rest frame wavelengths\n",
    "    `rest['flux']` holds the flux density (flam) at 10pc\n",
    "    \"\"\"\n",
    "\n",
    "    # convert to luminosity\n",
    "    flam = u.erg / u.second / u.cm**2 / u.angstrom\n",
    "    llam = u.erg / u.second / u.angstrom\n",
    "    flux = rest['flux'] * flam\n",
    "    lum = (4 * np.pi * flux * (10 * u.pc)**2).to(llam)\n",
    "\n",
    "    # redshift\n",
    "    observed = rest.copy()\n",
    "    observed['wav'] = rest['wav'] * (1 + z)\n",
    "    # following eqn. 23 in Hogg (1999/2000) http://adsabs.harvard.edu/abs/1999astro.ph..5116H\n",
    "    slam = (1 / (1 + z)) * lum / (4 * np.pi * cosmo.luminosity_distance(z)**2)\n",
    "    observed['flux'] = slam.to(flam)\n",
    "\n",
    "    return observed"
   ]
  },
  {
   "cell_type": "code",
   "execution_count": 8,
   "metadata": {},
   "outputs": [
    {
     "data": {
      "text/plain": [
       "17.37528346323216"
      ]
     },
     "execution_count": 8,
     "metadata": {},
     "output_type": "execute_result"
    }
   ],
   "source": [
    "z =0.05\n",
    "observed = redshift_spec(template, z)\n",
    "flux, wlen = rband.pad_spectrum(observed['flux'], observed['wav'])\n",
    "rband.get_ab_magnitude(flux, wlen)"
   ]
  },
  {
   "cell_type": "code",
   "execution_count": 2,
   "metadata": {},
   "outputs": [],
   "source": [
    "def compute_observed_magnitude(phase, z, filter_choice):\n",
    "    import numpy as np\n",
    "    import speclite\n",
    "    import speclite.filters\n",
    "    import astropy.units as u\n",
    "    from astropy.cosmology import WMAP9 as cosmo\n",
    "\n",
    "    # Nested helper function to scale the spectrum\n",
    "    def scale_spec(data, band, mag):\n",
    "        \"\"\"\n",
    "        Rescale the flux values so that the synthetic AB magnitude \n",
    "        computed through the given filter equals the desired magnitude.\n",
    "        \"\"\"\n",
    "        flux, wlen = band.pad_spectrum(data['flux'], data['wav'])\n",
    "        mag0 = band.get_ab_magnitude(flux, wlen)\n",
    "        scale = 10 ** (-0.4 * (mag - mag0))\n",
    "        data['flux'] *= scale\n",
    "\n",
    "    # Nested helper function to redshift the spectrum\n",
    "    def redshift_spec(rest, z):\n",
    "        \"\"\"\n",
    "        Redshift a rest-frame spectrum.\n",
    "        \"\"\"\n",
    "        flam = u.erg / u.second / u.cm**2 / u.angstrom\n",
    "        llam = u.erg / u.second / u.angstrom\n",
    "        # Convert flux at 10pc to a luminosity\n",
    "        flux = rest['flux'] * flam\n",
    "        lum = (4 * np.pi * flux * (10 * u.pc) ** 2).to(llam)\n",
    "        observed = rest.copy()\n",
    "        observed['wav'] = rest['wav'] * (1 + z)\n",
    "        # Adjust flux using the luminosity distance correction\n",
    "        slam = (1 / (1 + z)) * lum / (4 * np.pi * cosmo.luminosity_distance(z) ** 2)\n",
    "        observed['flux'] = slam.to(flam)\n",
    "        return observed\n",
    "\n",
    "    # Define constants\n",
    "    absmag = -19.3  # Absolute magnitude used to scale the template\n",
    "    hsiao_file = \"/home/jovyan/research/Current/hsiao_templates/snflux_1a.dat\"\n",
    "\n",
    "    # Load the Hsiao SNIa template data\n",
    "    hsiao = np.genfromtxt(hsiao_file, names='phase, wav, flux')\n",
    "\n",
    "    # Select the template rows for the specified phase (or the closest match)\n",
    "    mask = hsiao['phase'] == phase\n",
    "    if not np.any(mask):\n",
    "        idx = np.argmin(np.abs(hsiao['phase'] - phase))\n",
    "        closest_phase = hsiao['phase'][idx]\n",
    "        print(f\"Phase {phase} not found. Using closest available phase: {closest_phase:.1f}\")\n",
    "        mask = hsiao['phase'] == closest_phase\n",
    "    template = hsiao[mask]\n",
    "\n",
    "    # Load the filter based on the user's choice ('r' or 'g')\n",
    "    filter_choice = filter_choice.lower()\n",
    "    if filter_choice == 'r':\n",
    "        filt = speclite.filters.load_filter('sdss2010-r')\n",
    "    elif filter_choice == 'g':\n",
    "        filt = speclite.filters.load_filter('sdss2010-g')\n",
    "    elif filter_choice == 'b':\n",
    "        filt = speclite.filters.load_filter('sdss2010-b')\n",
    "    else:\n",
    "        raise ValueError(\"Invalid filter choice. Please choose 'r' 'b' 'g'.\")\n",
    "\n",
    "    # Scale the template to the desired absolute magnitude\n",
    "    scale_spec(template, filt, absmag)\n",
    "    # Redshift the template spectrum\n",
    "    observed = redshift_spec(template, z)\n",
    "    # Compute the observed magnitude using synthetic photometry\n",
    "    flux, wlen = filt.pad_spectrum(observed['flux'], observed['wav'])\n",
    "    obs_mag = filt.get_ab_magnitude(flux, wlen)\n",
    "    return obs_mag"
   ]
  },
  {
   "cell_type": "code",
   "execution_count": 5,
   "metadata": {},
   "outputs": [
    {
     "data": {
      "text/plain": [
       "18.089947550321686"
      ]
     },
     "execution_count": 5,
     "metadata": {},
     "output_type": "execute_result"
    }
   ],
   "source": [
    "compute_observed_magnitude(0, 0.069, 'r')"
   ]
  },
  {
   "cell_type": "code",
   "execution_count": null,
   "metadata": {},
   "outputs": [],
   "source": [
    "17.375389144596465"
   ]
  }
 ],
 "metadata": {
  "kernelspec": {
   "display_name": "Python 3 (ipykernel)",
   "language": "python",
   "name": "python3"
  },
  "language_info": {
   "codemirror_mode": {
    "name": "ipython",
    "version": 3
   },
   "file_extension": ".py",
   "mimetype": "text/x-python",
   "name": "python",
   "nbconvert_exporter": "python",
   "pygments_lexer": "ipython3",
   "version": "3.11.9"
  }
 },
 "nbformat": 4,
 "nbformat_minor": 4
}
