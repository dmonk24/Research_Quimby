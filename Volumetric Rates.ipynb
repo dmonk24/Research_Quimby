{
 "cells": [
  {
   "cell_type": "code",
   "execution_count": null,
   "id": "7cd45608-4afd-4d45-bd60-a32c46aa7279",
   "metadata": {},
   "outputs": [],
   "source": [
    "from astropy.cosmology import WMAP9 as cosmo\n",
    "import astropy.units as u\n",
    "import numpy as np\n",
    "\n",
    "all_sky_volume=cosmo.comoving_volume(0.35) - cosmo.comoving_volume(0.3)"
   ]
  },
  {
   "cell_type": "code",
   "execution_count": null,
   "id": "2cf96767-d4c0-466b-b878-46f9c0f75dcf",
   "metadata": {},
   "outputs": [],
   "source": [
    "survey_area=(47* u.deg**2) \n",
    "all_sky_area=(4 * np.pi * u.steradian).to(u.deg**2)"
   ]
  },
  {
   "cell_type": "code",
   "execution_count": null,
   "id": "d730c828-c7ed-4d04-b640-edce6f2b4a27",
   "metadata": {},
   "outputs": [],
   "source": [
    "all_sky_volume * (survey_area/all_sky_area)\n"
   ]
  },
  {
   "cell_type": "markdown",
   "id": "e015ca3a-67a5-4d18-be6f-536328764d32",
   "metadata": {},
   "source": [
    "this code gives me the field per night "
   ]
  },
  {
   "cell_type": "code",
   "execution_count": 8,
   "id": "63647120-44d9-49fc-b316-17d7d29c471c",
   "metadata": {},
   "outputs": [
    {
     "name": "stdout",
     "output_type": "stream",
     "text": [
      "Fields processed:            1076\n",
      "Total unique field-nights:   386647\n",
      "JD window nights (2458197→2460695): 2498\n",
      "Average number of fields per night:    154.78\n"
     ]
    }
   ],
   "source": [
    "import os                                             # import the os module for directory and file operations\n",
    "import pandas as pd                                   # import pandas for reading and manipulating CSV data\n",
    "\n",
    "# ——— CONFIG ———\n",
    "main_directory = '/home/jovyan/research/Current/Field_Numbers'  # path containing subfolders named by field number\n",
    "jdmin = 2458197                                      # minimum Julian Date in your window\n",
    "jdmax = 2460695                                      # maximum Julian Date in your window\n",
    "total_nights = jdmax - jdmin                         # compute the total number of nights in that JD range\n",
    "\n",
    "# Accumulators\n",
    "total_unique_field_nights = 0                        # will sum unique-night counts across all fields\n",
    "fields_processed = 0                                 # will count how many field folders were successfully read\n",
    "\n",
    "# ——— LOOP OVER EACH FIELD ———\n",
    "for field in os.listdir(main_directory):             # iterate over every entry name in main_directory\n",
    "    field_dir = os.path.join(main_directory, field)  # build the full path to this entry\n",
    "    if not os.path.isdir(field_dir):                 # skip if the entry is not a directory\n",
    "        continue\n",
    "\n",
    "    obs_path = os.path.join(field_dir, 'observation.csv')  # expected CSV filename inside each field folder\n",
    "    if not os.path.isfile(obs_path):                  # if the CSV file doesn’t exist, warn and skip\n",
    "        print(f\"Skipping {field!r}: no observation.csv found\")\n",
    "        continue\n",
    "\n",
    "    # ——— READ CSV ———\n",
    "    df = pd.read_csv(obs_path)                        # load the CSV into a pandas DataFrame\n",
    "    df.columns = ['obsjd', 'maglimit']                # rename columns to obsjd (Julian date) and maglimit\n",
    "\n",
    "    # ——— TRUNCATE JD TO INTEGER “NIGHTS” ———\n",
    "    df['night'] = df['obsjd'].astype(int)             # convert each floating‐point JD to its integer part\n",
    "\n",
    "    # ——— COUNT UNIQUE NIGHTS FOR THIS FIELD ———\n",
    "    unique_nights = df['night'].nunique()             # count how many distinct integer nights appear\n",
    "    total_unique_field_nights += unique_nights        # add to the running total of unique field‐nights\n",
    "    fields_processed += 1                             # increment the count of processed fields\n",
    "\n",
    "# ——— FINAL CALCULATION & OUTPUT ———\n",
    "if fields_processed == 0:                             # if no fields were processed, alert the user\n",
    "    print(\"No fields processed — check that each folder has observation.csv\")\n",
    "else:\n",
    "    avg_fields_per_night = total_unique_field_nights / total_nights  # compute the average fields per night\n",
    "    print(f\"Fields processed:            {fields_processed}\")          # report how many fields were read\n",
    "    print(f\"Total unique field-nights:   {total_unique_field_nights}\")# report the sum of unique-night counts\n",
    "    print(f\"JD window nights ({jdmin}→{jdmax}): {total_nights}\")      # report the JD range in nights\n",
    "    print(f\"Average number of fields per night:    {avg_fields_per_night:.2f}\")# report the final average"
   ]
  },
  {
   "cell_type": "code",
   "execution_count": 10,
   "id": "db9bb05a-0953-405e-a7ca-3579132f87ee",
   "metadata": {},
   "outputs": [],
   "source": [
    "from astropy.cosmology import WMAP9 as cosmo\n",
    "import astropy.units as u\n",
    "import numpy as np\n",
    "#fields_per_night = 154.78\n",
    "#all_sky_volume=cosmo.comoving_volume(0.35) - cosmo.comoving_volume(0.3)\n",
    "#survey_area=(fields_per_night * 47 * u.deg**2) #we are assuming that they dont over lap !!!\n",
    "#all_sky_area=(4 * np.pi * u.steradian).to(u.deg**2)"
   ]
  },
  {
   "cell_type": "code",
   "execution_count": 11,
   "id": "a30c7301-c6ab-4cab-9ce6-743e67693cf1",
   "metadata": {},
   "outputs": [
    {
     "name": "stdout",
     "output_type": "stream",
     "text": [
      "7274.66 deg2\n"
     ]
    }
   ],
   "source": [
    "#fields_per_night = 154.78\n",
    "#survey_area   = fields_per_night * 47 * u.deg**2\n",
    "#print(survey_area)"
   ]
  },
  {
   "cell_type": "code",
   "execution_count": 11,
   "id": "d64962df-d48f-47a1-a9f0-cde9263284a8",
   "metadata": {},
   "outputs": [
    {
     "name": "stdout",
     "output_type": "stream",
     "text": [
      "z = 0.0029–0.0047 → 4.91e+03 Mpc3\n",
      "z = 0.0047–0.0064 → 1.03e+04 Mpc3\n",
      "z = 0.0064–0.0082 → 1.78e+04 Mpc3\n",
      "z = 0.0082–0.0099 → 2.72e+04 Mpc3\n",
      "z = 0.0099–0.0117 → 3.86e+04 Mpc3\n"
     ]
    }
   ],
   "source": [
    "import numpy as np\n",
    "import astropy.units as u\n",
    "from astropy.cosmology import Planck15 as cosmo\n",
    "\n",
    "# ——— define your sky fraction ———\n",
    "fields_per_night = 154.78\n",
    "survey_area   = fields_per_night * 47 * u.deg**2\n",
    "all_sky_area  = (4 * np.pi * u.sr).to(u.deg**2)\n",
    "sky_fraction  = survey_area / all_sky_area\n",
    "\n",
    "# ——— redshift grid ———\n",
    "z_min, z_max  = 0.00293, 0.35\n",
    "redshifts     = np.linspace(z_min, z_max, 200)\n",
    "\n",
    "# ——— compute comoving volumes at each z ———\n",
    "Vc = cosmo.comoving_volume(redshifts)  # returns astropy Quantity in Mpc^3\n",
    "\n",
    "# ——— shell volumes for each consecutive bin, scaled to your footprint ———\n",
    "shell_volumes = (Vc[1:] - Vc[:-1]) * sky_fraction\n",
    "shell_volumes = shell_volumes.to(u.Mpc**3)  # ensure consistent units\n",
    "\n",
    "# now shell_volumes[i] is the survey volume between redshifts\n",
    "# redshifts[i] → redshifts[i+1]\n",
    "\n",
    "# e.g. inspect the first few:\n",
    "for i in range(5):\n",
    "    print(f\"z = {redshifts[i]:.4f}–{redshifts[i+1]:.4f} → {shell_volumes[i]:.2e}\")\n"
   ]
  },
  {
   "cell_type": "markdown",
   "id": "cebb8d4d-e245-423c-8fb6-797264d4e14b",
   "metadata": {},
   "source": [
    "THIS CALCULATES THE VOLUMETRIC RATE FOR ALL REDSHIFTS"
   ]
  },
  {
   "cell_type": "code",
   "execution_count": 12,
   "id": "8e1013e4-c891-4073-b3fc-b854681f321b",
   "metadata": {},
   "outputs": [
    {
     "name": "stdout",
     "output_type": "stream",
     "text": [
      "Saved 199 redshift‐bin volumes to /home/jovyan/research/Current/shell_volumes.csv\n"
     ]
    }
   ],
   "source": [
    "import numpy as np\n",
    "import astropy.units as u\n",
    "from astropy.cosmology import Planck15 as cosmo\n",
    "import pandas as pd\n",
    "\n",
    "# ——— CONFIGURE SURVEY FRACTION ———\n",
    "fields_per_night = 154.78\n",
    "survey_area   = fields_per_night * 47 * u.deg**2\n",
    "all_sky_area  = (4 * np.pi * u.sr).to(u.deg**2)\n",
    "sky_fraction  = survey_area / all_sky_area\n",
    "\n",
    "# ——— REDSHIFT GRID ———\n",
    "z_min, z_max = 0.00293, 0.35\n",
    "redshifts    = np.linspace(z_min, z_max, 200)\n",
    "\n",
    "# ——— COMOVING VOLUME AT EACH Z ———\n",
    "Vc = cosmo.comoving_volume(redshifts)  # in Mpc^3\n",
    "\n",
    "# ——— SHELL VOLUMES SCALED TO YOUR FOOTPRINT ———\n",
    "shell_volumes = (Vc[1:] - Vc[:-1]) * sky_fraction\n",
    "shell_volumes = shell_volumes.to(u.Mpc**3)  # ensure units\n",
    "\n",
    "# ——— PREPARE AND SAVE TO CSV ———\n",
    "z_low  = redshifts[:-1]\n",
    "z_high = redshifts[1:]\n",
    "vols   = shell_volumes.value             # numpy array of floats\n",
    "\n",
    "df = pd.DataFrame({\n",
    "    'z_low':            z_low,\n",
    "    'z_high':           z_high,\n",
    "    'shell_volume_Mpc3': vols\n",
    "})\n",
    "\n",
    "output_file = '/home/jovyan/research/Current/shell_volumes.csv'\n",
    "df.to_csv(output_file, index=False)\n",
    "\n",
    "print(f\"Saved {len(df)} redshift‐bin volumes to {output_file}\")\n"
   ]
  },
  {
   "cell_type": "code",
   "execution_count": null,
   "id": "1cfbf6c7-dbf7-4012-a3d4-67f9a198f313",
   "metadata": {},
   "outputs": [],
   "source": []
  },
  {
   "cell_type": "code",
   "execution_count": 14,
   "id": "27490a1e-01d4-414b-93a5-0fbf35e840f3",
   "metadata": {},
   "outputs": [
    {
     "name": "stdout",
     "output_type": "stream",
     "text": [
      "Written SN counts (199 bins) to sn_counts_per_bin.csv\n"
     ]
    }
   ],
   "source": [
    "import os\n",
    "import numpy as np\n",
    "import pandas as pd\n",
    "\n",
    "# ——— CONFIG ———\n",
    "# Path to your SN file\n",
    "sn_file = '/home/jovyan/research/Current/diego_data.csv'\n",
    "\n",
    "# Redshift range and grid\n",
    "z_min, z_max = 0.00293, 0.35\n",
    "redshifts = np.linspace(z_min, z_max, 200)  # 200 edges → 199 bins\n",
    "\n",
    "# ——— LOAD SUPERNOVA DATA ———\n",
    "df_sn = pd.read_csv(sn_file)\n",
    "# Make sure the redshift column exists\n",
    "if 'redshift' not in df_sn.columns:\n",
    "    raise KeyError(\"Column 'redshift' not found in SN catalog\")\n",
    "\n",
    "z_vals = df_sn['redshift'].values\n",
    "\n",
    "# ——— BINNING VIA numpy.digitize ———\n",
    "# np.digitize returns an integer index i such that:\n",
    "#   redshifts[i-1] <= z < redshifts[i]   (for the default right=False)\n",
    "indices = np.digitize(z_vals, bins=redshifts, right=False)\n",
    "\n",
    "# Prepare count array of length len(redshifts)-1\n",
    "sn_counts = np.zeros(len(redshifts)-1, dtype=int)\n",
    "\n",
    "# Count how many SNe fall into each of the 199 bins\n",
    "for idx in indices:\n",
    "    # only count if 1 <= idx < len(redshifts)\n",
    "    if 1 <= idx < len(redshifts):\n",
    "        sn_counts[idx-1] += 1\n",
    "\n",
    "# ——— COLLATE RESULTS & SAVE ———\n",
    "df_counts = pd.DataFrame({\n",
    "    'z_low':      redshifts[:-1],        # lower edge of each bin\n",
    "    'z_high':     redshifts[1:],         # upper edge\n",
    "    'sn_count':   sn_counts              # number of SNe in that slice\n",
    "})\n",
    "\n",
    "output_csv = 'sn_counts_per_bin.csv'\n",
    "df_counts.to_csv(output_csv, index=False)\n",
    "print(f\"Written SN counts ({len(df_counts)} bins) to {output_csv}\")\n"
   ]
  },
  {
   "cell_type": "markdown",
   "id": "a0ee5238-c500-4754-a92b-f6c99611a24c",
   "metadata": {},
   "source": [
    "ask q, about the last bin. there should be at least one SN at the last redshift but since z_i-1 <z < z_i so anything that equals the final edge gets ignored "
   ]
  },
  {
   "cell_type": "markdown",
   "id": "43e04f5d-46c8-4fe4-86c0-f66a1a4bf7a2",
   "metadata": {},
   "source": [
    "THIS CODE GETS the last Z and 6 of the SN dont have redshift"
   ]
  },
  {
   "cell_type": "code",
   "execution_count": 19,
   "id": "8ffd4bca-caa6-44ed-ae93-95c9ef93db02",
   "metadata": {},
   "outputs": [
    {
     "name": "stdout",
     "output_type": "stream",
     "text": [
      "Wrote 200 rows (including unbinned=6) to sn_counts_per_bin_with_extras.csv\n"
     ]
    }
   ],
   "source": [
    "import numpy as np\n",
    "import pandas as pd\n",
    "\n",
    "# ——— CONFIG ———\n",
    "sn_file      = '/home/jovyan/research/Current/diego_data.csv'\n",
    "z_min, z_max = 0.00293, 0.35\n",
    "edges        = np.linspace(z_min, z_max, 200)  # 200 edges → 199 bins\n",
    "\n",
    "# ——— LOAD YOUR CATALOG ———\n",
    "df_sn  = pd.read_csv(sn_file)\n",
    "z_vals = df_sn['redshift'].values\n",
    "\n",
    "# ——— DIGITIZE WITH right=True TO INCLUDE z == z_max ———\n",
    "indices = np.digitize(z_vals, bins=edges, right=True)\n",
    "\n",
    "# ——— COUNT SN IN EACH BIN ———\n",
    "sn_counts = np.zeros(len(edges)-1, dtype=int)\n",
    "for idx in indices:\n",
    "    if 1 <= idx < len(edges):\n",
    "        sn_counts[idx-1] += 1\n",
    "\n",
    "# ——— IDENTIFY ANY UNBINNED SN ———\n",
    "unbinned = len(z_vals) - sn_counts.sum()\n",
    "\n",
    "# ——— PREPARE OUTPUT DATAFRAME ———\n",
    "df_out = pd.DataFrame({\n",
    "    'z_low':      edges[:-1],\n",
    "    'z_high':     edges[1:],\n",
    "    'sn_count':   sn_counts\n",
    "})\n",
    "\n",
    "# ——— APPEND “UNBINNED” ROW VIA concat ———\n",
    "if unbinned > 0:\n",
    "    extra = pd.DataFrame([{\n",
    "        'z_low':    np.nan,\n",
    "        'z_high':   np.nan,\n",
    "        'sn_count': unbinned\n",
    "    }])\n",
    "    df_out = pd.concat([df_out, extra], ignore_index=True)\n",
    "\n",
    "# ——— WRITE TO CSV ———\n",
    "df_out.to_csv('sn_counts_per_bin_with_extras.csv', index=False)\n",
    "print(f\"Wrote {len(df_out)} rows (including unbinned={unbinned}) to sn_counts_per_bin_with_extras.csv\")\n"
   ]
  },
  {
   "cell_type": "code",
   "execution_count": 7,
   "id": "2bf5bd5e-f97a-4472-a4ee-bafdf11c2137",
   "metadata": {},
   "outputs": [
    {
     "data": {
      "image/png": "[encoded data removed]",
      "text/plain": [
       "<Figure size 800x500 with 1 Axes>"
      ]
     },
     "metadata": {},
     "output_type": "display_data"
    }
   ],
   "source": [
    "import pandas as pd                               # for data loading and manipulation\n",
    "import matplotlib.pyplot as plt                   # for plotting\n",
    "\n",
    "# Load the per‐bin supernova counts from the CSV file\n",
    "df = pd.read_csv('/home/jovyan/research/Current/sn_counts_per_bin_with_extras.csv')\n",
    "\n",
    "# Remove any rows where 'z_low' is NaN (these represent unbinned entries)\n",
    "df = df.dropna(subset=['z_low'])\n",
    "\n",
    "# Calculate the center of each redshift bin:\n",
    "# (lower edge + upper edge) / 2\n",
    "bin_centers = 0.5 * (df['z_low'] + df['z_high'])\n",
    "\n",
    "# Calculate the width of each redshift bin:\n",
    "# upper edge − lower edge\n",
    "bin_widths = df['z_high'] - df['z_low']\n",
    "\n",
    "# Create a new figure with a specified size (width=8\", height=5\")\n",
    "plt.figure(figsize=(8, 5))\n",
    "\n",
    "# Draw a bar chart:\n",
    "# x positions at bin_centers, heights from 'sn_count', and widths from bin_widths\n",
    "plt.bar(bin_centers, df['sn_count'], width=bin_widths)\n",
    "plt.xlabel('Redshift')\n",
    "plt.ylabel('Number of SNe Ia')\n",
    "plt.title('Supernova Counts per Redshift Bin')\n",
    "\n",
    "plt.tight_layout()\n",
    "plt.show()\n"
   ]
  },
  {
   "cell_type": "code",
   "execution_count": 8,
   "id": "405f8a50-95a5-44d8-926a-ae3beb4d18ce",
   "metadata": {},
   "outputs": [
    {
     "data": {
      "image/png": "[encoded data removed]",
      "text/plain": [
       "<Figure size 800x500 with 1 Axes>"
      ]
     },
     "metadata": {},
     "output_type": "display_data"
    }
   ],
   "source": [
    "plt.figure(figsize=(8, 5))\n",
    "\n",
    "# Draw a bar chart:\n",
    "# x positions at bin_centers, heights from 'sn_count', and widths from bin_widths\n",
    "plt.bar(bin_centers, df['sn_count'], width=bin_widths)\n",
    "plt.xlabel('Redshift')\n",
    "plt.ylabel('Number of SNe Ia')\n",
    "plt.title('Supernova Counts per Redshift Bin')\n",
    "plt.xlim(0,0.15)\n",
    "plt.tight_layout()\n",
    "plt.show()"
   ]
  },
  {
   "cell_type": "code",
   "execution_count": 19,
   "id": "ec952ffe-4e5f-4d1e-aefa-1bfec82a02cc",
   "metadata": {},
   "outputs": [
    {
     "name": "stdout",
     "output_type": "stream",
     "text": [
      "             ZTFID      IAUID                 discdate           RA  \\\n",
      "3112  ZTF22aaylnhq  SN2022qmx  2022-08-01 06:07:12.000  17:35:44.32   \n",
      "\n",
      "              Dec    peakt peakfilt  peakmag peakabs duration    rise    fade  \\\n",
      "3112  +04:49:56.8  1806.69        r   18.625  -22.80  >34.858  11.898  >22.96   \n",
      "\n",
      "       type  redshift hostabs hostcol          b    A_V  \n",
      "3112  SN Ia      0.35  -21.42    0.05  19.028335  0.497  \n"
     ]
    }
   ],
   "source": [
    "import pandas as pd\n",
    "\n",
    "\n",
    "df = pd.read_csv('diego_data.csv')\n",
    "target = df[abs(df['redshift'] - 0.35) < 1e-6]\n",
    "print(target)\n"
   ]
  },
  {
   "cell_type": "code",
   "execution_count": 20,
   "id": "2f2d171e-5e66-425e-9f08-a8da837c0de0",
   "metadata": {},
   "outputs": [
    {
     "data": {
      "image/png": "[encoded data removed]",
      "text/plain": [
       "<Figure size 640x480 with 1 Axes>"
      ]
     },
     "metadata": {},
     "output_type": "display_data"
    }
   ],
   "source": [
    "import pandas as pd\n",
    "import matplotlib.pyplot as plt\n",
    "\n",
    "\n",
    "df = pd.read_csv('shell_volumes.csv')\n",
    "df['z_center'] = 0.5 * (df['z_low'] + df['z_high'])\n",
    "\n",
    "\n",
    "plt.figure()\n",
    "plt.plot(df['z_center'], df['shell_volume_Mpc3'])\n",
    "plt.xlabel('Redshift')\n",
    "plt.ylabel('Shell Volume (Mpc³)')\n",
    "plt.title('Shell Volume vs Redshift')\n",
    "plt.tight_layout()\n",
    "plt.show()\n"
   ]
  },
  {
   "cell_type": "markdown",
   "id": "40ab04db-9217-4f05-a847-f40a18639766",
   "metadata": {},
   "source": [
    "B-band (B<sub>Vega</sub>):\n",
    "\n",
    "Dwarfs: M<sub>B</sub> > –18 mag\n",
    "\n",
    "Giants: M<sub>B</sub> ≤ –18 mag"
   ]
  },
  {
   "cell_type": "code",
   "execution_count": 3,
   "id": "53bbadba-32e1-47c5-8fca-d83eee29521b",
   "metadata": {},
   "outputs": [
    {
     "name": "stdout",
     "output_type": "stream",
     "text": [
      "2498\n"
     ]
    }
   ],
   "source": [
    "jdmin = 2458197                                      # minimum Julian Date in your window\n",
    "jdmax = 2460695 # maximum Julian Date in your window\n",
    "total_nights = jdmax - jdmin\n",
    "print(total_nights)"
   ]
  },
  {
   "cell_type": "code",
   "execution_count": null,
   "id": "618491e3-0eac-4e17-bb21-ecc1fbce848a",
   "metadata": {},
   "outputs": [],
   "source": []
  },
  {
   "cell_type": "code",
   "execution_count": null,
   "id": "cc288369-7447-4038-b005-e475f29a74f8",
   "metadata": {},
   "outputs": [],
   "source": []
  },
  {
   "cell_type": "code",
   "execution_count": null,
   "id": "8880e781-2784-4b64-9c10-eb10dbcb80ac",
   "metadata": {},
   "outputs": [],
   "source": []
  },
  {
   "cell_type": "code",
   "execution_count": null,
   "id": "746045e4-45e4-4aa8-a81a-8c3ba53c1c7c",
   "metadata": {},
   "outputs": [],
   "source": []
  },
  {
   "cell_type": "code",
   "execution_count": null,
   "id": "b57d10ee-815a-465f-92ee-1cf7360ea14f",
   "metadata": {},
   "outputs": [],
   "source": []
  }
 ],
 "metadata": {
  "kernelspec": {
   "display_name": "Python 3 (ipykernel)",
   "language": "python",
   "name": "python3"
  },
  "language_info": {
   "codemirror_mode": {
    "name": "ipython",
    "version": 3
   },
   "file_extension": ".py",
   "mimetype": "text/x-python",
   "name": "python",
   "nbconvert_exporter": "python",
   "pygments_lexer": "ipython3",
   "version": "3.11.9"
  }
 },
 "nbformat": 4,
 "nbformat_minor": 5
}
